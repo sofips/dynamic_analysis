{
 "cells": [
  {
   "cell_type": "code",
   "execution_count": 4,
   "metadata": {},
   "outputs": [],
   "source": [
    "import numpy as np\n",
    "from dgamod import *\n",
    "import cmath as cm\n",
    "import matplotlib as mpl\n",
    "import matplotlib.pyplot as plt\n",
    "from numpy import random\n",
    "import pandas as pd\n",
    "import configparser\n",
    "import sys\n",
    "import os\n",
    "import matplotlib.animation as animation\n",
    "from drl_grams import *\n",
    "\n",
    "mpl.rcParams.update({'font.size': 12})\n",
    "plt.rcParams['axes.axisbelow'] = True\n",
    "%matplotlib widget\n",
    "mpl.rcParams['lines.linewidth'] = 2\n",
    "mpl.rcParams['lines.linewidth'] = 2\n",
    "#mpl.rcParams['axes.prop_cycle'] = cycler(color='bgrkmyc')\n",
    "\n",
    "mpl.rcParams['axes.prop_cycle'] = mpl.cycler(color=[\"b\", \"g\", \"r\", 'k','y' , 'm','tab:orange', 'tab:cyan', 'tab:brown', 'slategrey', 'deeppink' ]) "
   ]
  },
  {
   "cell_type": "code",
   "execution_count": 5,
   "metadata": {},
   "outputs": [],
   "source": [
    "def state_fidelity(state):\n",
    "    nh = np.shape(state)[0]\n",
    "    fid = np.real(state[nh-1]*np.conjugate(state[nh-1]))\n",
    "    return fid"
   ]
  },
  {
   "cell_type": "code",
   "execution_count": 6,
   "metadata": {},
   "outputs": [],
   "source": [
    "def plot_single_sequence(action_sequence,nh,dt=0.15,b=100,label='',actions = 'original',add_natural=False):\n",
    "    \n",
    "    t_steps = len(action_sequence)+1\n",
    "    # generar propagadores\n",
    "    if actions == 'original':\n",
    "        actions = actions_paper2(b, nh)\n",
    "    elif actions == 'new':\n",
    "        actions = new_actions(b,nh)\n",
    "    elif actions == 'old':\n",
    "        actions = actions_paper(b,nh)\n",
    "    elif actions == 'four':\n",
    "        actions = actions4(b,1,nh)\n",
    "\n",
    "    propagators = gen_props(actions, nh, b, dt)\n",
    "    times = np.arange(0,t_steps,1)\n",
    "\n",
    "    # definicion del estado inicial e inicializacion de estados forzado y natural\n",
    "\n",
    "    initial_state = np.zeros(nh, dtype=np.complex_)\n",
    "    initial_state[0] = 1.0\n",
    "\n",
    "    free_state = initial_state\n",
    "    \n",
    "    if add_natural:\n",
    "        natural_evol = [state_fidelity(free_state)]\n",
    "    \n",
    "        nat_sequence = np.zeros(int(t_steps-1),dtype=int)\n",
    "\n",
    "        for action in nat_sequence:\n",
    "                \n",
    "            free_state = calculate_next_state(free_state,0,propagators)\n",
    "            natural_evol.append(state_fidelity(free_state))\n",
    "\n",
    "        max_natural = np.max(natural_evol)\n",
    "\n",
    "        plt.plot(times,natural_evol, '-v', label = 'Natural Evolution , Máx: {}'.format(max_natural))\n",
    "    \n",
    "\n",
    "    # inicializacion de estado forzado \n",
    "    forced_state = initial_state\n",
    "\n",
    "    # almacenar evolucion natural y evolucion forzada\n",
    "    forced_evol = [state_fidelity(forced_state)]\n",
    "\n",
    "    for action in action_sequence:\n",
    "        \n",
    "        forced_state = calculate_next_state(forced_state,action,propagators)\n",
    "        forced_evol.append(state_fidelity(forced_state))\n",
    "\n",
    "    max_forced = np.max(forced_evol)\n",
    "\n",
    "    plt.plot(times,forced_evol,'-o', label = label + '. Máx.: {}'.format(max_forced))\n",
    "\n",
    "    plt.legend(loc='upper left')\n",
    "\n"
   ]
  },
  {
   "cell_type": "code",
   "execution_count": null,
   "metadata": {},
   "outputs": [],
   "source": []
  }
 ],
 "metadata": {
  "kernelspec": {
   "display_name": "base",
   "language": "python",
   "name": "python3"
  },
  "language_info": {
   "codemirror_mode": {
    "name": "ipython",
    "version": 3
   },
   "file_extension": ".py",
   "mimetype": "text/x-python",
   "name": "python",
   "nbconvert_exporter": "python",
   "pygments_lexer": "ipython3",
   "version": "3.11.5"
  }
 },
 "nbformat": 4,
 "nbformat_minor": 2
}
