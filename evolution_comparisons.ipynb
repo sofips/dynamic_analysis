{
 "cells": [
  {
   "cell_type": "code",
   "execution_count": 2,
   "metadata": {},
   "outputs": [],
   "source": [
    "import numpy as np\n",
    "#from dgamod import *\n",
    "import cmath as cm\n",
    "import matplotlib as mpl\n",
    "import matplotlib.pyplot as plt\n",
    "from numpy import random\n",
    "import pandas as pd\n",
    "import configparser\n",
    "import sys\n",
    "import os\n",
    "import matplotlib.animation as animation\n",
    "\n",
    "mpl.rcParams.update({'font.size': 12})\n",
    "plt.rcParams['axes.axisbelow'] = True\n",
    "%matplotlib widget\n",
    "mpl.rcParams['lines.linewidth'] = 2\n",
    "mpl.rcParams['lines.linewidth'] = 2\n",
    "#mpl.rcParams['axes.prop_cycle'] = cycler(color='bgrkmyc')\n",
    "\n",
    "mpl.rcParams['axes.prop_cycle'] = mpl.cycler(color=[\"b\", \"g\", \"r\", 'k','y' , 'm','tab:orange', 'tab:cyan', 'tab:brown', 'slategrey', 'deeppink' ]) "
   ]
  },
  {
   "cell_type": "code",
   "execution_count": 3,
   "metadata": {},
   "outputs": [],
   "source": [
    "def state_fidelity(state):\n",
    "    nh = np.shape(state)[0]\n",
    "    fid = np.real(state[nh-1]*np.conjugate(state[nh-1]))\n",
    "    return fid"
   ]
  },
  {
   "cell_type": "code",
   "execution_count": null,
   "metadata": {},
   "outputs": [],
   "source": []
  }
 ],
 "metadata": {
  "kernelspec": {
   "display_name": "base",
   "language": "python",
   "name": "python3"
  },
  "language_info": {
   "codemirror_mode": {
    "name": "ipython",
    "version": 3
   },
   "file_extension": ".py",
   "mimetype": "text/x-python",
   "name": "python",
   "nbconvert_exporter": "python",
   "pygments_lexer": "ipython3",
   "version": "3.11.5"
  }
 },
 "nbformat": 4,
 "nbformat_minor": 2
}
